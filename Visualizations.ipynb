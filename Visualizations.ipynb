{
 "cells": [
  {
   "cell_type": "markdown",
   "id": "d0c56cac-7977-4449-a244-43519b321d24",
   "metadata": {},
   "source": [
    "## Pandas Visualizaitons\n"
   ]
  },
  {
   "cell_type": "code",
   "execution_count": 4,
   "id": "0e4a6b4a-d0e6-4f46-b7d3-561a1f45dab1",
   "metadata": {},
   "outputs": [],
   "source": [
    "import pandas as pd\n",
    "import numpy as np\n",
    "import matplotlib.pyplot as plt"
   ]
  },
  {
   "cell_type": "code",
   "execution_count": 6,
   "id": "c2dd2629-394a-4001-bef6-fc26baec83d9",
   "metadata": {},
   "outputs": [
    {
     "data": {
      "text/html": [
       "<div>\n",
       "<style scoped>\n",
       "    .dataframe tbody tr th:only-of-type {\n",
       "        vertical-align: middle;\n",
       "    }\n",
       "\n",
       "    .dataframe tbody tr th {\n",
       "        vertical-align: top;\n",
       "    }\n",
       "\n",
       "    .dataframe thead th {\n",
       "        text-align: right;\n",
       "    }\n",
       "</style>\n",
       "<table border=\"1\" class=\"dataframe\">\n",
       "  <thead>\n",
       "    <tr style=\"text-align: right;\">\n",
       "      <th></th>\n",
       "      <th>Date</th>\n",
       "      <th>Flavor Rating</th>\n",
       "      <th>Texture Rating</th>\n",
       "      <th>Overall Rating</th>\n",
       "    </tr>\n",
       "  </thead>\n",
       "  <tbody>\n",
       "    <tr>\n",
       "      <th>0</th>\n",
       "      <td>1/1/2022</td>\n",
       "      <td>0.223090</td>\n",
       "      <td>0.040220</td>\n",
       "      <td>0.600129</td>\n",
       "    </tr>\n",
       "    <tr>\n",
       "      <th>1</th>\n",
       "      <td>1/2/2022</td>\n",
       "      <td>0.635886</td>\n",
       "      <td>0.938476</td>\n",
       "      <td>0.106264</td>\n",
       "    </tr>\n",
       "    <tr>\n",
       "      <th>2</th>\n",
       "      <td>1/3/2022</td>\n",
       "      <td>0.442323</td>\n",
       "      <td>0.044154</td>\n",
       "      <td>0.598112</td>\n",
       "    </tr>\n",
       "    <tr>\n",
       "      <th>3</th>\n",
       "      <td>1/4/2022</td>\n",
       "      <td>0.389128</td>\n",
       "      <td>0.549676</td>\n",
       "      <td>0.489353</td>\n",
       "    </tr>\n",
       "    <tr>\n",
       "      <th>4</th>\n",
       "      <td>1/5/2022</td>\n",
       "      <td>0.386887</td>\n",
       "      <td>0.519439</td>\n",
       "      <td>0.988280</td>\n",
       "    </tr>\n",
       "    <tr>\n",
       "      <th>5</th>\n",
       "      <td>1/6/2022</td>\n",
       "      <td>0.877984</td>\n",
       "      <td>0.193588</td>\n",
       "      <td>0.832827</td>\n",
       "    </tr>\n",
       "    <tr>\n",
       "      <th>6</th>\n",
       "      <td>1/7/2022</td>\n",
       "      <td>0.140995</td>\n",
       "      <td>0.325110</td>\n",
       "      <td>0.105147</td>\n",
       "    </tr>\n",
       "  </tbody>\n",
       "</table>\n",
       "</div>"
      ],
      "text/plain": [
       "       Date  Flavor Rating  Texture Rating  Overall Rating\n",
       "0  1/1/2022       0.223090        0.040220        0.600129\n",
       "1  1/2/2022       0.635886        0.938476        0.106264\n",
       "2  1/3/2022       0.442323        0.044154        0.598112\n",
       "3  1/4/2022       0.389128        0.549676        0.489353\n",
       "4  1/5/2022       0.386887        0.519439        0.988280\n",
       "5  1/6/2022       0.877984        0.193588        0.832827\n",
       "6  1/7/2022       0.140995        0.325110        0.105147"
      ]
     },
     "execution_count": 6,
     "metadata": {},
     "output_type": "execute_result"
    }
   ],
   "source": [
    "df = pd.read_csv(\"/Users/hubertwojcik/Desktop/Projekty/pandas-playground/datasets/Ice Cream Ratings.csv\")\n",
    "df"
   ]
  }
 ],
 "metadata": {
  "kernelspec": {
   "display_name": "Python [conda env:base] *",
   "language": "python",
   "name": "conda-base-py"
  },
  "language_info": {
   "codemirror_mode": {
    "name": "ipython",
    "version": 3
   },
   "file_extension": ".py",
   "mimetype": "text/x-python",
   "name": "python",
   "nbconvert_exporter": "python",
   "pygments_lexer": "ipython3",
   "version": "3.12.7"
  }
 },
 "nbformat": 4,
 "nbformat_minor": 5
}
